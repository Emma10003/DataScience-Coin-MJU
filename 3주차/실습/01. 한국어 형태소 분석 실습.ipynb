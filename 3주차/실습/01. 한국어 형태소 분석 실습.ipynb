{
 "cells": [
  {
   "cell_type": "code",
   "execution_count": 2,
   "metadata": {},
   "outputs": [
    {
     "ename": "SyntaxError",
     "evalue": "invalid syntax (4277734033.py, line 1)",
     "output_type": "error",
     "traceback": [
      "\u001b[1;36m  Cell \u001b[1;32mIn[2], line 1\u001b[1;36m\u001b[0m\n\u001b[1;33m    pip install konlpy\u001b[0m\n\u001b[1;37m        ^\u001b[0m\n\u001b[1;31mSyntaxError\u001b[0m\u001b[1;31m:\u001b[0m invalid syntax\n"
     ]
    }
   ],
   "source": [
    "pip install konlpy\n",
    "from konlpy.tag import Okt"
   ]
  },
  {
   "cell_type": "code",
   "execution_count": null,
   "metadata": {},
   "outputs": [],
   "source": [
    "# 형태소 분석기 객체 생성\n",
    "okt = Okt()\n",
    "\n",
    "# 분석할 문장\n",
    "text = \"자연어 처리는 정말 재미있는 분야입니다!\"\n",
    "\n",
    "# 형태소 분석\n",
    "print(\"Okt 형태소 분석 결과:\")\n",
    "print(okt.morphs(text))   # 형태소 단위 분리\n",
    "print(okt.pos(text))   # 품사 태깅\n",
    "print(okt.nouns(text))   # 명사 추출"
   ]
  },
  {
   "cell_type": "code",
   "execution_count": null,
   "metadata": {},
   "outputs": [],
   "source": [
    "# 형태소 분석기 객체 생성\n",
    "okt = Okt()\n",
    "\n",
    "# 분석할 문장\n",
    "text = \"아버지가방에들어가신다\"\n",
    "\n",
    "# 형태소 분석\n",
    "print(\"형태소 분석 결과:\")\n",
    "print(okt.morphs(text))   # 형태소 단위 분리\n",
    "print(okt.pos(text))   # 품사 태깅\n",
    "print(okt.nouns(text))   # 명사 추출"
   ]
  }
 ],
 "metadata": {
  "kernelspec": {
   "display_name": "Python 3",
   "language": "python",
   "name": "python3"
  },
  "language_info": {
   "codemirror_mode": {
    "name": "ipython",
    "version": 3
   },
   "file_extension": ".py",
   "mimetype": "text/x-python",
   "name": "python",
   "nbconvert_exporter": "python",
   "pygments_lexer": "ipython3",
   "version": "3.13.0"
  }
 },
 "nbformat": 4,
 "nbformat_minor": 2
}
