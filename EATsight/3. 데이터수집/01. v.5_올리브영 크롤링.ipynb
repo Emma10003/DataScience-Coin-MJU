{
 "cells": [
  {
   "cell_type": "code",
   "execution_count": 1,
   "id": "0d55fc62",
   "metadata": {},
   "outputs": [],
   "source": [
    "from selenium import webdriver\n",
    "from selenium.webdriver.common.by import By\n",
    "from selenium.webdriver.chrome.service import Service\n",
    "from selenium.webdriver.support.ui import WebDriverWait\n",
    "from selenium.webdriver.support import expected_conditions as EC\n",
    "import pandas as pd\n",
    "import time"
   ]
  },
  {
   "cell_type": "markdown",
   "id": "fe784743",
   "metadata": {},
   "source": [
    "### 0. 크롬 드라이버 실행"
   ]
  },
  {
   "cell_type": "code",
   "execution_count": 2,
   "id": "a8756745",
   "metadata": {},
   "outputs": [],
   "source": [
    "options = webdriver.ChromeOptions()\n",
    "options.add_argument(\"--start-maximized\")\n",
    "driver = webdriver.Chrome(options=options)"
   ]
  },
  {
   "cell_type": "markdown",
   "id": "7f65fa19",
   "metadata": {},
   "source": [
    "### 1. 제품 링크 수집 (립메이크업 카테고리 페이지)"
   ]
  },
  {
   "cell_type": "code",
   "execution_count": 3,
   "id": "11366030",
   "metadata": {},
   "outputs": [
    {
     "name": "stdout",
     "output_type": "stream",
     "text": [
      "📦 수집된 상품 수: 0\n"
     ]
    }
   ],
   "source": [
    "# 드라이버 실행\n",
    "url = \"https://www.oliveyoung.co.kr/store/display/getMCategoryList.do?dispCatNo=100000100020006\"\n",
    "driver.get(url)\n",
    "time.sleep(3)\n",
    "\n",
    "# 상품 링크 수집 (20개 기준)\n",
    "product_elements = driver.find_elements(By.CSS_SELECTOR, \"ul.prd_list li .prd_name a\")\n",
    "product_links = [elem.get_attribute('href') for elem in product_elements]\n",
    "\n",
    "print(\"📦 수집된 상품 수:\", len(product_links))\n",
    "\n",
    "# 데이터 저장용 리스트 \n",
    "data = []"
   ]
  },
  {
   "cell_type": "markdown",
   "id": "799f8a10",
   "metadata": {},
   "source": [
    "### 2. 각 제품 상세 페이지에서 리뷰 탭 클릭 및 크롤링"
   ]
  },
  {
   "cell_type": "code",
   "execution_count": 4,
   "id": "e324d32e",
   "metadata": {},
   "outputs": [],
   "source": [
    "for idx, link in enumerate(product_links):\n",
    "    print(f\"\\n======================\")\n",
    "    print(f\"[{idx+1}/{len(product_links)}] 상품 리뷰 수집 중: {link}\")\n",
    "    driver.get(link)\n",
    "    time.sleep(2)\n",
    "\n",
    "    try:\n",
    "        # 리뷰 탭 클릭\n",
    "        review_tab = WebDriverWait(driver, 10).until(\n",
    "            EC.element_to_be_clickable((By.CSS_SELECTOR, 'a.goods_reputation'))\n",
    "        )\n",
    "        driver.execute_script(\"arguments[0].click();\", review_tab)\n",
    "\n",
    "        WebDriverWait(driver, 10).until(\n",
    "            EC.presence_of_element_located((By.CSS_SELECTOR, 'ul#gdasList li'))\n",
    "        )\n",
    "        print(\"✅ 리뷰 탭 로딩 완료\")\n",
    "    except:\n",
    "        print(\"❌ 리뷰 탭 로딩 실패\")\n",
    "        continue\n",
    "\n",
    "    # 리뷰 페이지 반복\n",
    "    for page in range(5):  # 페이지당 최대 5페이지 (필요시 조절)\n",
    "        time.sleep(2)\n",
    "        review_items = driver.find_elements(By.CSS_SELECTOR, 'ul#gdasList li')\n",
    "        print(f\" - [Page {page+1}] 리뷰 {len(review_items)}개 수집\")\n",
    "\n",
    "        for review in review_items:\n",
    "            try:\n",
    "                # ID / 피부타입\n",
    "                info_text = review.find_element(By.CSS_SELECTOR, '.info_user').text.strip()\n",
    "                info_parts = info_text.split('\\n')\n",
    "                user_id = info_parts[0].strip()\n",
    "                skin_type = info_parts[1].strip() if len(info_parts) > 1 else \"\"\n",
    "\n",
    "                # 별점\n",
    "                try:\n",
    "                    star_style = review.find_element(By.CSS_SELECTOR, '.score .star span').get_attribute('style')\n",
    "                    rating = int(int(star_style.split(':')[1].replace('%;', '').strip()) / 20)\n",
    "                except:\n",
    "                    rating = 0\n",
    "\n",
    "                # 날짜\n",
    "                date = review.find_element(By.CSS_SELECTOR, '.date').text.strip()\n",
    "\n",
    "                # 평가 요소 (발색력, 지속력 등)\n",
    "                tag_elements = review.find_elements(By.CSS_SELECTOR, '.tag_type .tag')\n",
    "                tags = \", \".join([t.text.strip() for t in tag_elements])\n",
    "\n",
    "                # 리뷰 텍스트 (.review_txt는 없고 .txt_inner가 있음)\n",
    "                review_text = review.find_element(By.CSS_SELECTOR, '.txt_inner').text.strip()\n",
    "\n",
    "                # 저장\n",
    "                data.append({\n",
    "                    'Product_URL': link,\n",
    "                    'UserID': user_id,\n",
    "                    'SkinType': skin_type,\n",
    "                    'Rating': rating,\n",
    "                    'Date': date,\n",
    "                    'Tags': tags,\n",
    "                    'Review': review_text\n",
    "                })\n",
    "\n",
    "            except Exception as e:\n",
    "                print(\"⚠️ 리뷰 수집 오류:\", e)\n",
    "                continue\n",
    "\n",
    "        # 다음 페이지 클릭\n",
    "        try:\n",
    "            next_btn = driver.find_element(By.CSS_SELECTOR, 'a.next')\n",
    "            if 'disabled' in next_btn.get_attribute('class'):\n",
    "                print(\"⛔ 다음 페이지 없음\")\n",
    "                break\n",
    "            else:\n",
    "                driver.execute_script(\"arguments[0].click();\", next_btn)\n",
    "        except:\n",
    "            print(\"⛔ 다음 페이지 이동 실패\")\n",
    "            break"
   ]
  },
  {
   "cell_type": "markdown",
   "id": "98b70d2b",
   "metadata": {},
   "source": [
    "### 3. 결과 저장"
   ]
  },
  {
   "cell_type": "code",
   "execution_count": 5,
   "id": "050af8df",
   "metadata": {},
   "outputs": [
    {
     "name": "stdout",
     "output_type": "stream",
     "text": [
      "\n",
      "✅ 전체 리뷰 크롤링 완료. 총 리뷰 수: 0\n"
     ]
    }
   ],
   "source": [
    "driver.quit()\n",
    "\n",
    "df = pd.DataFrame(data)\n",
    "df.to_csv(\"oliveyoung_lip_reviews.csv\", index=False, encoding='utf-8-sig')\n",
    "print(\"\\n✅ 전체 리뷰 크롤링 완료. 총 리뷰 수:\", len(df))"
   ]
  }
 ],
 "metadata": {
  "kernelspec": {
   "display_name": "tf_env",
   "language": "python",
   "name": "python3"
  },
  "language_info": {
   "codemirror_mode": {
    "name": "ipython",
    "version": 3
   },
   "file_extension": ".py",
   "mimetype": "text/x-python",
   "name": "python",
   "nbconvert_exporter": "python",
   "pygments_lexer": "ipython3",
   "version": "3.10.16"
  }
 },
 "nbformat": 4,
 "nbformat_minor": 5
}
