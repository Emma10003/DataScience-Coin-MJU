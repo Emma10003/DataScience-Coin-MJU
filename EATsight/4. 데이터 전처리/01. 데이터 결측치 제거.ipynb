{
 "cells": [
  {
   "cell_type": "code",
   "execution_count": 2,
   "id": "2a895879",
   "metadata": {},
   "outputs": [],
   "source": [
    "import numpy as np\n",
    "import pandas as pd"
   ]
  },
  {
   "cell_type": "code",
   "execution_count": 3,
   "id": "ac88e6cd",
   "metadata": {},
   "outputs": [
    {
     "name": "stderr",
     "output_type": "stream",
     "text": [
      "C:\\Users\\emma1\\AppData\\Local\\Temp\\ipykernel_6736\\3843059330.py:1: DtypeWarning: Columns (12) have mixed types. Specify dtype option on import or set low_memory=False.\n",
      "  df = pd.read_csv(\"../3. 데이터수집/FINAL.csv\", dtype={\"text_review\": str})\n"
     ]
    },
    {
     "data": {
      "application/vnd.microsoft.datawrangler.viewer.v0+json": {
       "columns": [
        {
         "name": "index",
         "rawType": "int64",
         "type": "integer"
        },
        {
         "name": "brand",
         "rawType": "object",
         "type": "string"
        },
        {
         "name": "product_name",
         "rawType": "object",
         "type": "string"
        },
        {
         "name": "price_original",
         "rawType": "float64",
         "type": "float"
        },
        {
         "name": "price_discounted",
         "rawType": "int64",
         "type": "integer"
        },
        {
         "name": "date",
         "rawType": "object",
         "type": "string"
        },
        {
         "name": "score",
         "rawType": "int64",
         "type": "integer"
        },
        {
         "name": "user_tags",
         "rawType": "object",
         "type": "unknown"
        },
        {
         "name": "skin_tone",
         "rawType": "object",
         "type": "unknown"
        },
        {
         "name": "user_rank",
         "rawType": "float64",
         "type": "float"
        },
        {
         "name": "usage_duration",
         "rawType": "object",
         "type": "unknown"
        },
        {
         "name": "item_option",
         "rawType": "object",
         "type": "string"
        },
        {
         "name": "text_review",
         "rawType": "object",
         "type": "string"
        },
        {
         "name": "recommendation_score",
         "rawType": "object",
         "type": "string"
        },
        {
         "name": "발색력",
         "rawType": "object",
         "type": "string"
        },
        {
         "name": "지속력",
         "rawType": "object",
         "type": "string"
        },
        {
         "name": "발림성",
         "rawType": "object",
         "type": "string"
        },
        {
         "name": "수분감",
         "rawType": "object",
         "type": "string"
        }
       ],
       "conversionMethod": "pd.DataFrame",
       "ref": "f14c75a5-4c80-483b-a53a-58ae957eb18e",
       "rows": [
        [
         "0",
         "롬앤",
         "[NEW/단독기획] 롬앤 더 쥬시 래스팅 틴트 (기획/단품)",
         "13000.0",
         "11050",
         "2025.03.08",
         "1",
         "복합성",
         null,
         null,
         "한달이상사용",
         "[옵션] 05 쥬쥬브",
         "더 쥬시 래스팅 바르고 시간이 좀 지나면 뭔가 입술이 쪼그라드는 느낌에 엄청 건조해지는 느낌이어서 입술이 아린 듯했거든요ㅜㅜ 그렇게 몇 번 더 바르니 입술에 뭐가 나기 시작해서 사용 중단했더니 나았어요. 몇 번 쓰지도 못하고 휴지통행ㅜㅜ 근데 그 외에도 질감 표현의 지속력이라던가 색상 이런 것도 별로 맘에 안 들어서 딱히 뭐가 좋다 이런 게 없네요,,",
         "6",
         "다소 아쉬워요",
         "예상보다 짧아요",
         "보통이에요",
         "매트해요"
        ],
        [
         "1",
         "롬앤",
         "[NEW/단독기획] 롬앤 더 쥬시 래스팅 틴트 (기획/단품)",
         "13000.0",
         "11050",
         "2025.03.25",
         "1",
         null,
         null,
         null,
         null,
         "[옵션] [기획세트] 03 베어 그레이프",
         "리뉴얼 전 베어 그레이프 써보고 이번에 리뉴얼 후 베어그레이프도 써봤는데 진심 갑자기 입술선 주변이 따갑고 간지럽기 시작해서 한번 나면 계속 재발한다는 구순염이 났네요. ㅋㅋ… 검색 해보니 롬앤 틴트나 적색 202호 성분 있으면 구순염 난다는 사람이 많다고 해서 아.. 싶었음.. 리뉴얼 전엔 ㄱㅊ았는데 왜 갑자기 이런걸까여..??\n\n발림성은 좀 끈적꾸덕한 편이고 주름에 좀 끼는 타입이에여 글로우?광택?립인데 플럼핑이나 그런 효과 있는 제품은 아녜여\n\n색상은 베어 구ㄹr이프라는 말이 있듯이 진심 그날그날 색이 바뀝니다.. 어떨땐 다크끼 어떨땐 흰끼(흰끼도는순간 립메이크업 뜸) 진심 어느 장단에 맞춰줘야하는지 몰겠\n\n학생틴트로 가성비있게 사용하기 좋지만 걍 쓰던거 쓰거나 적색202나 기타 입술염 유발 성분 없는 립제품 사서 쓰시는게 나을듯하네요 ㅜㅠ 롬앤..",
         "5",
         "다소 아쉬워요",
         "보통이에요",
         "보통이에요",
         "보통이에요"
        ],
        [
         "2",
         "롬앤",
         "[NEW/단독기획] 롬앤 더 쥬시 래스팅 틴트 (기획/단품)",
         "13000.0",
         "11050",
         "2025.03.31",
         "1",
         "지성, 여름쿨톤, 모공, 블랙헤드",
         "여름쿨톤",
         null,
         null,
         "[옵션] 28 설화 딸기",
         "컬러면에서 아주 만족했으나\n나에게 구순염을 가져다준 롬앤..\n내가 롬앤을 믿다니 바보같았지..",
         "1",
         "보통이에요",
         "예상보다 짧아요",
         "아주 만족해요",
         "보통이에요"
        ]
       ],
       "shape": {
        "columns": 17,
        "rows": 3
       }
      },
      "text/html": [
       "<div>\n",
       "<style scoped>\n",
       "    .dataframe tbody tr th:only-of-type {\n",
       "        vertical-align: middle;\n",
       "    }\n",
       "\n",
       "    .dataframe tbody tr th {\n",
       "        vertical-align: top;\n",
       "    }\n",
       "\n",
       "    .dataframe thead th {\n",
       "        text-align: right;\n",
       "    }\n",
       "</style>\n",
       "<table border=\"1\" class=\"dataframe\">\n",
       "  <thead>\n",
       "    <tr style=\"text-align: right;\">\n",
       "      <th></th>\n",
       "      <th>brand</th>\n",
       "      <th>product_name</th>\n",
       "      <th>price_original</th>\n",
       "      <th>price_discounted</th>\n",
       "      <th>date</th>\n",
       "      <th>score</th>\n",
       "      <th>user_tags</th>\n",
       "      <th>skin_tone</th>\n",
       "      <th>user_rank</th>\n",
       "      <th>usage_duration</th>\n",
       "      <th>item_option</th>\n",
       "      <th>text_review</th>\n",
       "      <th>recommendation_score</th>\n",
       "      <th>발색력</th>\n",
       "      <th>지속력</th>\n",
       "      <th>발림성</th>\n",
       "      <th>수분감</th>\n",
       "    </tr>\n",
       "  </thead>\n",
       "  <tbody>\n",
       "    <tr>\n",
       "      <th>0</th>\n",
       "      <td>롬앤</td>\n",
       "      <td>[NEW/단독기획] 롬앤 더 쥬시 래스팅 틴트 (기획/단품)</td>\n",
       "      <td>13000.0</td>\n",
       "      <td>11050</td>\n",
       "      <td>2025.03.08</td>\n",
       "      <td>1</td>\n",
       "      <td>복합성</td>\n",
       "      <td>NaN</td>\n",
       "      <td>NaN</td>\n",
       "      <td>한달이상사용</td>\n",
       "      <td>[옵션] 05 쥬쥬브</td>\n",
       "      <td>더 쥬시 래스팅 바르고 시간이 좀 지나면 뭔가 입술이 쪼그라드는 느낌에 엄청 건조해...</td>\n",
       "      <td>6</td>\n",
       "      <td>다소 아쉬워요</td>\n",
       "      <td>예상보다 짧아요</td>\n",
       "      <td>보통이에요</td>\n",
       "      <td>매트해요</td>\n",
       "    </tr>\n",
       "    <tr>\n",
       "      <th>1</th>\n",
       "      <td>롬앤</td>\n",
       "      <td>[NEW/단독기획] 롬앤 더 쥬시 래스팅 틴트 (기획/단품)</td>\n",
       "      <td>13000.0</td>\n",
       "      <td>11050</td>\n",
       "      <td>2025.03.25</td>\n",
       "      <td>1</td>\n",
       "      <td>NaN</td>\n",
       "      <td>NaN</td>\n",
       "      <td>NaN</td>\n",
       "      <td>NaN</td>\n",
       "      <td>[옵션] [기획세트] 03 베어 그레이프</td>\n",
       "      <td>리뉴얼 전 베어 그레이프 써보고 이번에 리뉴얼 후 베어그레이프도 써봤는데 진심 갑자...</td>\n",
       "      <td>5</td>\n",
       "      <td>다소 아쉬워요</td>\n",
       "      <td>보통이에요</td>\n",
       "      <td>보통이에요</td>\n",
       "      <td>보통이에요</td>\n",
       "    </tr>\n",
       "    <tr>\n",
       "      <th>2</th>\n",
       "      <td>롬앤</td>\n",
       "      <td>[NEW/단독기획] 롬앤 더 쥬시 래스팅 틴트 (기획/단품)</td>\n",
       "      <td>13000.0</td>\n",
       "      <td>11050</td>\n",
       "      <td>2025.03.31</td>\n",
       "      <td>1</td>\n",
       "      <td>지성, 여름쿨톤, 모공, 블랙헤드</td>\n",
       "      <td>여름쿨톤</td>\n",
       "      <td>NaN</td>\n",
       "      <td>NaN</td>\n",
       "      <td>[옵션] 28 설화 딸기</td>\n",
       "      <td>컬러면에서 아주 만족했으나\\n나에게 구순염을 가져다준 롬앤..\\n내가 롬앤을 믿다니...</td>\n",
       "      <td>1</td>\n",
       "      <td>보통이에요</td>\n",
       "      <td>예상보다 짧아요</td>\n",
       "      <td>아주 만족해요</td>\n",
       "      <td>보통이에요</td>\n",
       "    </tr>\n",
       "  </tbody>\n",
       "</table>\n",
       "</div>"
      ],
      "text/plain": [
       "  brand                       product_name  price_original  price_discounted  \\\n",
       "0    롬앤  [NEW/단독기획] 롬앤 더 쥬시 래스팅 틴트 (기획/단품)         13000.0             11050   \n",
       "1    롬앤  [NEW/단독기획] 롬앤 더 쥬시 래스팅 틴트 (기획/단품)         13000.0             11050   \n",
       "2    롬앤  [NEW/단독기획] 롬앤 더 쥬시 래스팅 틴트 (기획/단품)         13000.0             11050   \n",
       "\n",
       "         date  score           user_tags skin_tone  user_rank usage_duration  \\\n",
       "0  2025.03.08      1                 복합성       NaN        NaN         한달이상사용   \n",
       "1  2025.03.25      1                 NaN       NaN        NaN            NaN   \n",
       "2  2025.03.31      1  지성, 여름쿨톤, 모공, 블랙헤드      여름쿨톤        NaN            NaN   \n",
       "\n",
       "              item_option                                        text_review  \\\n",
       "0             [옵션] 05 쥬쥬브  더 쥬시 래스팅 바르고 시간이 좀 지나면 뭔가 입술이 쪼그라드는 느낌에 엄청 건조해...   \n",
       "1  [옵션] [기획세트] 03 베어 그레이프  리뉴얼 전 베어 그레이프 써보고 이번에 리뉴얼 후 베어그레이프도 써봤는데 진심 갑자...   \n",
       "2           [옵션] 28 설화 딸기  컬러면에서 아주 만족했으나\\n나에게 구순염을 가져다준 롬앤..\\n내가 롬앤을 믿다니...   \n",
       "\n",
       "  recommendation_score      발색력       지속력      발림성    수분감  \n",
       "0                    6  다소 아쉬워요  예상보다 짧아요    보통이에요   매트해요  \n",
       "1                    5  다소 아쉬워요     보통이에요    보통이에요  보통이에요  \n",
       "2                    1    보통이에요  예상보다 짧아요  아주 만족해요  보통이에요  "
      ]
     },
     "execution_count": 3,
     "metadata": {},
     "output_type": "execute_result"
    }
   ],
   "source": [
    "df = pd.read_csv(\"../3. 데이터수집/FINAL.csv\", dtype={\"text_review\": str})\n",
    "df.head(3)"
   ]
  },
  {
   "cell_type": "markdown",
   "id": "7fe73b8b",
   "metadata": {},
   "source": [
    "### 데이터 개수"
   ]
  },
  {
   "cell_type": "code",
   "execution_count": 4,
   "id": "3706c031",
   "metadata": {},
   "outputs": [
    {
     "name": "stdout",
     "output_type": "stream",
     "text": [
      "전체 데이터 개수: 229,136개\n",
      "피부톤 결측치 데이터 개수: 136,120개\n",
      "정상 데이터 개수: 93,016개\n"
     ]
    }
   ],
   "source": [
    "# 전체 데이터 행 개수\n",
    "print(f\"전체 데이터 개수: {df.shape[0]:,}개\")\n",
    "\n",
    "# skin_tone 컬럼의 값이 결측치인 행 개수\n",
    "skin_tone_NaN = df['skin_tone'].isna().sum()\n",
    "print(f\"피부톤 결측치 데이터 개수: {skin_tone_NaN:,}개\")\n",
    "\n",
    "# 정상 데이터 개수\n",
    "normal_data = df.shape[0] - skin_tone_NaN\n",
    "print(f\"정상 데이터 개수: {normal_data:,}개\")"
   ]
  },
  {
   "cell_type": "code",
   "execution_count": 5,
   "id": "51f3fd34",
   "metadata": {},
   "outputs": [
    {
     "name": "stdout",
     "output_type": "stream",
     "text": [
      "  brand                       product_name  price_original  price_discounted  \\\n",
      "0    롬앤  [NEW/단독기획] 롬앤 더 쥬시 래스팅 틴트 (기획/단품)         13000.0             11050   \n",
      "1    롬앤  [NEW/단독기획] 롬앤 더 쥬시 래스팅 틴트 (기획/단품)         13000.0             11050   \n",
      "9    롬앤  [NEW/단독기획] 롬앤 더 쥬시 래스팅 틴트 (기획/단품)         13000.0             11050   \n",
      "\n",
      "         date  score user_tags skin_tone  user_rank usage_duration  \\\n",
      "0  2025.03.08      1       복합성       NaN        NaN         한달이상사용   \n",
      "1  2025.03.25      1       NaN       NaN        NaN            NaN   \n",
      "9  2025.02.09      1       NaN       NaN        NaN         한달이상사용   \n",
      "\n",
      "              item_option                                        text_review  \\\n",
      "0             [옵션] 05 쥬쥬브  더 쥬시 래스팅 바르고 시간이 좀 지나면 뭔가 입술이 쪼그라드는 느낌에 엄청 건조해...   \n",
      "1  [옵션] [기획세트] 03 베어 그레이프  리뉴얼 전 베어 그레이프 써보고 이번에 리뉴얼 후 베어그레이프도 써봤는데 진심 갑자...   \n",
      "9     [옵션] [단품]23 피치 피치 미  진짜 리뉴얼 왜 한건지 의문\\n기존 잘나가고있던 색들도 미미하게 바뀌고 뉴컬러들도 ...   \n",
      "\n",
      "  recommendation_score      발색력       지속력      발림성    수분감  \n",
      "0                    6  다소 아쉬워요  예상보다 짧아요    보통이에요   매트해요  \n",
      "1                    5  다소 아쉬워요     보통이에요    보통이에요  보통이에요  \n",
      "9                   12  다소 아쉬워요  예상보다 짧아요  다소 아쉬워요   매트해요  \n"
     ]
    }
   ],
   "source": [
    "rows_todrop = df[df['skin_tone'].isna()]\n",
    "print(rows_todrop.head(3))"
   ]
  },
  {
   "cell_type": "code",
   "execution_count": 6,
   "id": "7f9ef550",
   "metadata": {},
   "outputs": [
    {
     "data": {
      "application/vnd.microsoft.datawrangler.viewer.v0+json": {
       "columns": [
        {
         "name": "index",
         "rawType": "int64",
         "type": "integer"
        },
        {
         "name": "brand",
         "rawType": "object",
         "type": "string"
        },
        {
         "name": "product_name",
         "rawType": "object",
         "type": "string"
        },
        {
         "name": "price_original",
         "rawType": "float64",
         "type": "float"
        },
        {
         "name": "price_discounted",
         "rawType": "int64",
         "type": "integer"
        },
        {
         "name": "date",
         "rawType": "object",
         "type": "string"
        },
        {
         "name": "score",
         "rawType": "int64",
         "type": "integer"
        },
        {
         "name": "user_tags",
         "rawType": "object",
         "type": "string"
        },
        {
         "name": "skin_tone",
         "rawType": "object",
         "type": "string"
        },
        {
         "name": "user_rank",
         "rawType": "float64",
         "type": "float"
        },
        {
         "name": "usage_duration",
         "rawType": "object",
         "type": "unknown"
        },
        {
         "name": "item_option",
         "rawType": "object",
         "type": "string"
        },
        {
         "name": "text_review",
         "rawType": "object",
         "type": "string"
        },
        {
         "name": "recommendation_score",
         "rawType": "object",
         "type": "string"
        },
        {
         "name": "발색력",
         "rawType": "object",
         "type": "string"
        },
        {
         "name": "지속력",
         "rawType": "object",
         "type": "string"
        },
        {
         "name": "발림성",
         "rawType": "object",
         "type": "string"
        },
        {
         "name": "수분감",
         "rawType": "object",
         "type": "string"
        }
       ],
       "conversionMethod": "pd.DataFrame",
       "ref": "8285011e-7f5e-4b7f-926f-de91d90f3e85",
       "rows": [
        [
         "2",
         "롬앤",
         "[NEW/단독기획] 롬앤 더 쥬시 래스팅 틴트 (기획/단품)",
         "13000.0",
         "11050",
         "2025.03.31",
         "1",
         "지성, 여름쿨톤, 모공, 블랙헤드",
         "여름쿨톤",
         null,
         null,
         "[옵션] 28 설화 딸기",
         "컬러면에서 아주 만족했으나\n나에게 구순염을 가져다준 롬앤..\n내가 롬앤을 믿다니 바보같았지..",
         "1",
         "보통이에요",
         "예상보다 짧아요",
         "아주 만족해요",
         "보통이에요"
        ],
        [
         "3",
         "롬앤",
         "[NEW/단독기획] 롬앤 더 쥬시 래스팅 틴트 (기획/단품)",
         "13000.0",
         "11050",
         "2025.03.28",
         "1",
         "건성, 쿨톤, 블랙헤드, 잡티",
         "쿨톤",
         null,
         null,
         "[옵션] 28 설화 딸기",
         "저만 이 색상 쓰면 입술이 따갑고 그래요? 처음엔 제 입술이 상태가 안 좋은줄 알고 그냥 두고 안 썼는데 오래만에 발라보고 싶아서 한 4시간정도 발라줬더니 입술이 지우고나서도 계속 따갑고 입술이 자체가 건조해지더라고요…. 다른 색상은 괜찮게 잘 쓰고 있는데 이 색상만 이상하네요…",
         "1",
         "보통이에요",
         "보통이에요",
         "보통이에요",
         "아주 촉촉해요"
        ],
        [
         "4",
         "롬앤",
         "[NEW/단독기획] 롬앤 더 쥬시 래스팅 틴트 (기획/단품)",
         "13000.0",
         "11050",
         "2025.03.14",
         "1",
         "복합성, 가을웜톤, 다크서클, 모공",
         "가을웜톤",
         null,
         null,
         "[옵션] [올리브영단독]02 누카다미아",
         "배송 상태 진짜 너무해요..\n상자 다 찢어졌는데 테이프 하나만 찍 붙혀져있고 밑에 구멍이 크게 나있는데...ㅋㅋ결국 제 틴트는 배송중에 실종...^^\n홈페이지엔 배송 완료 떠있는데...^^ 제가 받은건 없..ㅋㅋ\n올리브영에 문의 넣었더니 사진 보고 바로 재배송 해주시긴 했지만 배송 상태 진짜 신경 좀 써주세요..ㅜ",
         "0",
         "보통이에요",
         "보통이에요",
         "보통이에요",
         "보통이에요"
        ],
        [
         "5",
         "롬앤",
         "[NEW/단독기획] 롬앤 더 쥬시 래스팅 틴트 (기획/단품)",
         "13000.0",
         "11050",
         "2025.03.30",
         "1",
         "지성, 가을웜톤, 트러블",
         "가을웜톤",
         null,
         null,
         "[옵션] [올리브영단독]02 누카다미아",
         "색은 너무너무 예쁘지만 바르고 구순염이 생겼어요 처음 생긴건데 한번 발병하면 재발이 쉽대서 참 속상해요….",
         "1",
         "아주 만족해요",
         "보통이에요",
         "다소 아쉬워요",
         "아주 촉촉해요"
        ],
        [
         "6",
         "롬앤",
         "[NEW/단독기획] 롬앤 더 쥬시 래스팅 틴트 (기획/단품)",
         "13000.0",
         "11050",
         "2025.03.01",
         "1",
         "트러블성, 여름쿨톤, 각질, 모공",
         "여름쿨톤",
         null,
         null,
         "[옵션] [올리브영단독]01 포멜로 스킨",
         "❌촉촉하지도 않고 가벼운 글로우한 텍스처\n\n❌사진처럼 탱글거리는 텍스처 절대 아님.\n\n❌발색샷과 실제 발색 너무 다름...\n\n다른 립과 믹싱하기도 애매한 그런 촉촉틴트.. 롬앤 글래스팅 컬러 글로스 4컬러나 가지고 있을만큼 롬앤 립 진~짜 좋아하는데 이건 너무너무너무 실망이에요 ㅠ 세일기간때 샀다만 다*소에서 파는 틴트보다 더 별로라서 걍 쳐박템될듯.. ...",
         "1",
         "다소 아쉬워요",
         "예상보다 짧아요",
         "다소 아쉬워요",
         "보통이에요"
        ]
       ],
       "shape": {
        "columns": 17,
        "rows": 5
       }
      },
      "text/html": [
       "<div>\n",
       "<style scoped>\n",
       "    .dataframe tbody tr th:only-of-type {\n",
       "        vertical-align: middle;\n",
       "    }\n",
       "\n",
       "    .dataframe tbody tr th {\n",
       "        vertical-align: top;\n",
       "    }\n",
       "\n",
       "    .dataframe thead th {\n",
       "        text-align: right;\n",
       "    }\n",
       "</style>\n",
       "<table border=\"1\" class=\"dataframe\">\n",
       "  <thead>\n",
       "    <tr style=\"text-align: right;\">\n",
       "      <th></th>\n",
       "      <th>brand</th>\n",
       "      <th>product_name</th>\n",
       "      <th>price_original</th>\n",
       "      <th>price_discounted</th>\n",
       "      <th>date</th>\n",
       "      <th>score</th>\n",
       "      <th>user_tags</th>\n",
       "      <th>skin_tone</th>\n",
       "      <th>user_rank</th>\n",
       "      <th>usage_duration</th>\n",
       "      <th>item_option</th>\n",
       "      <th>text_review</th>\n",
       "      <th>recommendation_score</th>\n",
       "      <th>발색력</th>\n",
       "      <th>지속력</th>\n",
       "      <th>발림성</th>\n",
       "      <th>수분감</th>\n",
       "    </tr>\n",
       "  </thead>\n",
       "  <tbody>\n",
       "    <tr>\n",
       "      <th>2</th>\n",
       "      <td>롬앤</td>\n",
       "      <td>[NEW/단독기획] 롬앤 더 쥬시 래스팅 틴트 (기획/단품)</td>\n",
       "      <td>13000.0</td>\n",
       "      <td>11050</td>\n",
       "      <td>2025.03.31</td>\n",
       "      <td>1</td>\n",
       "      <td>지성, 여름쿨톤, 모공, 블랙헤드</td>\n",
       "      <td>여름쿨톤</td>\n",
       "      <td>NaN</td>\n",
       "      <td>NaN</td>\n",
       "      <td>[옵션] 28 설화 딸기</td>\n",
       "      <td>컬러면에서 아주 만족했으나\\n나에게 구순염을 가져다준 롬앤..\\n내가 롬앤을 믿다니...</td>\n",
       "      <td>1</td>\n",
       "      <td>보통이에요</td>\n",
       "      <td>예상보다 짧아요</td>\n",
       "      <td>아주 만족해요</td>\n",
       "      <td>보통이에요</td>\n",
       "    </tr>\n",
       "    <tr>\n",
       "      <th>3</th>\n",
       "      <td>롬앤</td>\n",
       "      <td>[NEW/단독기획] 롬앤 더 쥬시 래스팅 틴트 (기획/단품)</td>\n",
       "      <td>13000.0</td>\n",
       "      <td>11050</td>\n",
       "      <td>2025.03.28</td>\n",
       "      <td>1</td>\n",
       "      <td>건성, 쿨톤, 블랙헤드, 잡티</td>\n",
       "      <td>쿨톤</td>\n",
       "      <td>NaN</td>\n",
       "      <td>NaN</td>\n",
       "      <td>[옵션] 28 설화 딸기</td>\n",
       "      <td>저만 이 색상 쓰면 입술이 따갑고 그래요? 처음엔 제 입술이 상태가 안 좋은줄 알고...</td>\n",
       "      <td>1</td>\n",
       "      <td>보통이에요</td>\n",
       "      <td>보통이에요</td>\n",
       "      <td>보통이에요</td>\n",
       "      <td>아주 촉촉해요</td>\n",
       "    </tr>\n",
       "    <tr>\n",
       "      <th>4</th>\n",
       "      <td>롬앤</td>\n",
       "      <td>[NEW/단독기획] 롬앤 더 쥬시 래스팅 틴트 (기획/단품)</td>\n",
       "      <td>13000.0</td>\n",
       "      <td>11050</td>\n",
       "      <td>2025.03.14</td>\n",
       "      <td>1</td>\n",
       "      <td>복합성, 가을웜톤, 다크서클, 모공</td>\n",
       "      <td>가을웜톤</td>\n",
       "      <td>NaN</td>\n",
       "      <td>NaN</td>\n",
       "      <td>[옵션] [올리브영단독]02 누카다미아</td>\n",
       "      <td>배송 상태 진짜 너무해요..\\n상자 다 찢어졌는데 테이프 하나만 찍 붙혀져있고 밑에...</td>\n",
       "      <td>0</td>\n",
       "      <td>보통이에요</td>\n",
       "      <td>보통이에요</td>\n",
       "      <td>보통이에요</td>\n",
       "      <td>보통이에요</td>\n",
       "    </tr>\n",
       "    <tr>\n",
       "      <th>5</th>\n",
       "      <td>롬앤</td>\n",
       "      <td>[NEW/단독기획] 롬앤 더 쥬시 래스팅 틴트 (기획/단품)</td>\n",
       "      <td>13000.0</td>\n",
       "      <td>11050</td>\n",
       "      <td>2025.03.30</td>\n",
       "      <td>1</td>\n",
       "      <td>지성, 가을웜톤, 트러블</td>\n",
       "      <td>가을웜톤</td>\n",
       "      <td>NaN</td>\n",
       "      <td>NaN</td>\n",
       "      <td>[옵션] [올리브영단독]02 누카다미아</td>\n",
       "      <td>색은 너무너무 예쁘지만 바르고 구순염이 생겼어요 처음 생긴건데 한번 발병하면 재발이...</td>\n",
       "      <td>1</td>\n",
       "      <td>아주 만족해요</td>\n",
       "      <td>보통이에요</td>\n",
       "      <td>다소 아쉬워요</td>\n",
       "      <td>아주 촉촉해요</td>\n",
       "    </tr>\n",
       "    <tr>\n",
       "      <th>6</th>\n",
       "      <td>롬앤</td>\n",
       "      <td>[NEW/단독기획] 롬앤 더 쥬시 래스팅 틴트 (기획/단품)</td>\n",
       "      <td>13000.0</td>\n",
       "      <td>11050</td>\n",
       "      <td>2025.03.01</td>\n",
       "      <td>1</td>\n",
       "      <td>트러블성, 여름쿨톤, 각질, 모공</td>\n",
       "      <td>여름쿨톤</td>\n",
       "      <td>NaN</td>\n",
       "      <td>NaN</td>\n",
       "      <td>[옵션] [올리브영단독]01 포멜로 스킨</td>\n",
       "      <td>❌촉촉하지도 않고 가벼운 글로우한 텍스처\\n\\n❌사진처럼 탱글거리는 텍스처 절대 아...</td>\n",
       "      <td>1</td>\n",
       "      <td>다소 아쉬워요</td>\n",
       "      <td>예상보다 짧아요</td>\n",
       "      <td>다소 아쉬워요</td>\n",
       "      <td>보통이에요</td>\n",
       "    </tr>\n",
       "  </tbody>\n",
       "</table>\n",
       "</div>"
      ],
      "text/plain": [
       "  brand                       product_name  price_original  price_discounted  \\\n",
       "2    롬앤  [NEW/단독기획] 롬앤 더 쥬시 래스팅 틴트 (기획/단품)         13000.0             11050   \n",
       "3    롬앤  [NEW/단독기획] 롬앤 더 쥬시 래스팅 틴트 (기획/단품)         13000.0             11050   \n",
       "4    롬앤  [NEW/단독기획] 롬앤 더 쥬시 래스팅 틴트 (기획/단품)         13000.0             11050   \n",
       "5    롬앤  [NEW/단독기획] 롬앤 더 쥬시 래스팅 틴트 (기획/단품)         13000.0             11050   \n",
       "6    롬앤  [NEW/단독기획] 롬앤 더 쥬시 래스팅 틴트 (기획/단품)         13000.0             11050   \n",
       "\n",
       "         date  score            user_tags skin_tone  user_rank usage_duration  \\\n",
       "2  2025.03.31      1   지성, 여름쿨톤, 모공, 블랙헤드      여름쿨톤        NaN            NaN   \n",
       "3  2025.03.28      1     건성, 쿨톤, 블랙헤드, 잡티        쿨톤        NaN            NaN   \n",
       "4  2025.03.14      1  복합성, 가을웜톤, 다크서클, 모공      가을웜톤        NaN            NaN   \n",
       "5  2025.03.30      1        지성, 가을웜톤, 트러블      가을웜톤        NaN            NaN   \n",
       "6  2025.03.01      1   트러블성, 여름쿨톤, 각질, 모공      여름쿨톤        NaN            NaN   \n",
       "\n",
       "              item_option                                        text_review  \\\n",
       "2           [옵션] 28 설화 딸기  컬러면에서 아주 만족했으나\\n나에게 구순염을 가져다준 롬앤..\\n내가 롬앤을 믿다니...   \n",
       "3           [옵션] 28 설화 딸기  저만 이 색상 쓰면 입술이 따갑고 그래요? 처음엔 제 입술이 상태가 안 좋은줄 알고...   \n",
       "4   [옵션] [올리브영단독]02 누카다미아  배송 상태 진짜 너무해요..\\n상자 다 찢어졌는데 테이프 하나만 찍 붙혀져있고 밑에...   \n",
       "5   [옵션] [올리브영단독]02 누카다미아  색은 너무너무 예쁘지만 바르고 구순염이 생겼어요 처음 생긴건데 한번 발병하면 재발이...   \n",
       "6  [옵션] [올리브영단독]01 포멜로 스킨  ❌촉촉하지도 않고 가벼운 글로우한 텍스처\\n\\n❌사진처럼 탱글거리는 텍스처 절대 아...   \n",
       "\n",
       "  recommendation_score      발색력       지속력      발림성      수분감  \n",
       "2                    1    보통이에요  예상보다 짧아요  아주 만족해요    보통이에요  \n",
       "3                    1    보통이에요     보통이에요    보통이에요  아주 촉촉해요  \n",
       "4                    0    보통이에요     보통이에요    보통이에요    보통이에요  \n",
       "5                    1  아주 만족해요     보통이에요  다소 아쉬워요  아주 촉촉해요  \n",
       "6                    1  다소 아쉬워요  예상보다 짧아요  다소 아쉬워요    보통이에요  "
      ]
     },
     "execution_count": 6,
     "metadata": {},
     "output_type": "execute_result"
    }
   ],
   "source": [
    "df_removed = df.dropna(subset=['skin_tone'], inplace=False)\n",
    "df_removed.head()"
   ]
  },
  {
   "cell_type": "markdown",
   "id": "b3e8aae0",
   "metadata": {},
   "source": [
    "### CSV파일 저장"
   ]
  },
  {
   "cell_type": "code",
   "execution_count": 10,
   "id": "791988df",
   "metadata": {},
   "outputs": [],
   "source": [
    "df_removed.to_csv('FINAL_removed.csv', index=False, encoding='utf-8')"
   ]
  },
  {
   "cell_type": "markdown",
   "id": "a9033b87",
   "metadata": {},
   "source": [
    "### 텍스트 리뷰 컬럼만 txt파일 저장"
   ]
  },
  {
   "cell_type": "code",
   "execution_count": 10,
   "id": "f42f1a0e",
   "metadata": {},
   "outputs": [],
   "source": [
    "df_removed['text_review'].to_csv('text_review2.txt', index=False, encoding='utf-8')"
   ]
  },
  {
   "cell_type": "code",
   "execution_count": 12,
   "id": "3a322109",
   "metadata": {},
   "outputs": [],
   "source": [
    "# 100개의의 레코드만 추출해서 저장\n",
    "df_removed['text_review'][:100].to_csv('text_review_sub.txt', index=False, encoding='utf-8')"
   ]
  }
 ],
 "metadata": {
  "kernelspec": {
   "display_name": "tf_env",
   "language": "python",
   "name": "python3"
  },
  "language_info": {
   "codemirror_mode": {
    "name": "ipython",
    "version": 3
   },
   "file_extension": ".py",
   "mimetype": "text/x-python",
   "name": "python",
   "nbconvert_exporter": "python",
   "pygments_lexer": "ipython3",
   "version": "3.10.16"
  }
 },
 "nbformat": 4,
 "nbformat_minor": 5
}
